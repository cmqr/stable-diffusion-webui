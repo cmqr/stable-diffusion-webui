{
 "cells": [
  {
   "cell_type": "code",
   "execution_count": null,
   "id": "3870fd0b-825b-4684-9b64-d3f765782a37",
   "metadata": {
    "tags": []
   },
   "outputs": [],
   "source": [
    "# 実行環境の確認\n",
    "!python --version\n",
    "!nvidia-smi"
   ]
  },
  {
   "cell_type": "code",
   "execution_count": null,
   "id": "77a8a369-2bf9-4b17-a964-4fc83b2fbf72",
   "metadata": {},
   "outputs": [],
   "source": [
    "# GitHubからAUTOMATIC1111のリポジトリをクローン\n",
    "!git clone https://github.com/AUTOMATIC1111/stable-diffusion-webui\n",
    "%cd stable-diffusion-webui"
   ]
  },
  {
   "cell_type": "code",
   "execution_count": null,
   "id": "7248fc44-bd6a-427a-b4dd-5c34b5078611",
   "metadata": {},
   "outputs": [],
   "source": [
    "# Hugging Faceのアクセストークンを指定\n",
    "# ref: https://huggingface.co/settings/tokens\n",
    "user_token = \"{Hugging Faceのアクセストークン}\"\n",
    "user_header = f\"\\\"Authorization: Bearer {user_token}\\\"\""
   ]
  },
  {
   "cell_type": "code",
   "execution_count": null,
   "id": "b869dc80-534e-4df5-a8c0-eca356db7068",
   "metadata": {},
   "outputs": [],
   "source": [
    "# モデルをダウンロード\n",
    "\n",
    "# 例: Vsukiyaki/ShiratakiMix\n",
    "!wget --header={user_header} https://huggingface.co/Vsukiyaki/ShiratakiMix/resolve/main/ShiratakiMix-add-VAE.safetensors -O /home/studio-lab-user/stable-diffusion-webui/models/Stable-diffusion/ShiratakiMix-add-VAE.safetensors"
   ]
  },
  {
   "cell_type": "code",
   "execution_count": null,
   "id": "d46eb726-076f-48e9-b52b-0c0cd8204102",
   "metadata": {},
   "outputs": [],
   "source": [
    "# 必要なパッケージをインストール\n",
    "!COMMANDLINE_ARGS=\"--exit\" REQS_FILE=\"requirements.txt\" python launch.py"
   ]
  },
  {
   "cell_type": "code",
   "execution_count": null,
   "id": "1234ebd4-dd89-4cd6-a00a-2fa5677c90e4",
   "metadata": {
    "tags": []
   },
   "outputs": [],
   "source": [
    "# WebUIを起動\n",
    "\n",
    "# 2回目以降の起動時は、以下の行のコメントアウトを解除して実行\n",
    "# %cd stable-diffusion-webui\n",
    "\n",
    "!COMMANDLINE_ARGS=\"--ngrok {ngrokのアクセストークン} --ngrok-region jp --gradio-debug --gradio-auth myid:mypassword --xformers\" REQS_FILE=\"requirements.txt\" python launch.py"
   ]
  },
  {
   "cell_type": "code",
   "execution_count": null,
   "id": "df590dff-f82c-46b4-8b94-c6568c5adcd5",
   "metadata": {},
   "outputs": [],
   "source": []
  }
 ],
 "metadata": {
  "kernelspec": {
   "display_name": "myenv:Python",
   "language": "python",
   "name": "conda-env-myenv-py"
  },
  "language_info": {
   "codemirror_mode": {
    "name": "ipython",
    "version": 3
   },
   "file_extension": ".py",
   "mimetype": "text/x-python",
   "name": "python",
   "nbconvert_exporter": "python",
   "pygments_lexer": "ipython3",
   "version": "3.10.6"
  }
 },
 "nbformat": 4,
 "nbformat_minor": 5
}
